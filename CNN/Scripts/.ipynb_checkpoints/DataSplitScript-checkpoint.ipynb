{
 "cells": [
  {
   "cell_type": "code",
   "execution_count": 1,
   "id": "ad2e05b6-73bb-45eb-89f2-a3acbfca325c",
   "metadata": {},
   "outputs": [
    {
     "name": "stdout",
     "output_type": "stream",
     "text": [
      "Dataset successfully split into D:\\GymBuddy\\CNN\\Split_Data\\train, D:\\GymBuddy\\CNN\\Split_Data\\validation, and D:\\GymBuddy\\CNN\\Split_Data\\test\n"
     ]
    }
   ],
   "source": [
    "import os\n",
    "import random\n",
    "import shutil\n",
    "\n",
    "def split_dataset(dataset_dir, output_dir, train_split=0.7, val_split=0.15, test_split=0.15):\n",
    "    # Ensure the splits sum to 1.0\n",
    "    assert train_split + val_split + test_split == 1.0, \"Splits must sum to 1\"\n",
    "\n",
    "    # Create output directories if they don't exist\n",
    "    train_dir = os.path.join(output_dir, 'train')\n",
    "    val_dir = os.path.join(output_dir, 'validation')\n",
    "    test_dir = os.path.join(output_dir, 'test')\n",
    "\n",
    "    os.makedirs(train_dir, exist_ok=True)\n",
    "    os.makedirs(val_dir, exist_ok=True)\n",
    "    os.makedirs(test_dir, exist_ok=True)\n",
    "\n",
    "    # Iterate through each class folder in the dataset directory\n",
    "    for class_folder in os.listdir(dataset_dir):\n",
    "        class_path = os.path.join(dataset_dir, class_folder)\n",
    "        if os.path.isdir(class_path):\n",
    "            # Create corresponding class folders in train, val, and test directories\n",
    "            os.makedirs(os.path.join(train_dir, class_folder), exist_ok=True)\n",
    "            os.makedirs(os.path.join(val_dir, class_folder), exist_ok=True)\n",
    "            os.makedirs(os.path.join(test_dir, class_folder), exist_ok=True)\n",
    "\n",
    "            # Get list of all images in the class folder\n",
    "            images = os.listdir(class_path)\n",
    "            random.shuffle(images)\n",
    "\n",
    "            # Split the dataset\n",
    "            train_count = int(train_split * len(images))\n",
    "            val_count = int(val_split * len(images))\n",
    "\n",
    "            train_images = images[:train_count]\n",
    "            val_images = images[train_count:train_count + val_count]\n",
    "            test_images = images[train_count + val_count:]\n",
    "\n",
    "            # Move the files to their respective directories\n",
    "            for image in train_images:\n",
    "                shutil.move(os.path.join(class_path, image), os.path.join(train_dir, class_folder, image))\n",
    "\n",
    "            for image in val_images:\n",
    "                shutil.move(os.path.join(class_path, image), os.path.join(val_dir, class_folder, image))\n",
    "\n",
    "            for image in test_images:\n",
    "                shutil.move(os.path.join(class_path, image), os.path.join(test_dir, class_folder, image))\n",
    "\n",
    "    print(f\"Dataset successfully split into {train_dir}, {val_dir}, and {test_dir}\")\n",
    "\n",
    "# Define paths\n",
    "dataset_dir = r'D:\\GymBuddy\\CNN\\Data'  # Path to your dataset\n",
    "output_dir = r'D:\\GymBuddy\\CNN\\Split_Data'  # Output path for split datasets\n",
    "\n",
    "# Call the function to split the dataset\n",
    "split_dataset(dataset_dir, output_dir)\n"
   ]
  },
  {
   "cell_type": "code",
   "execution_count": null,
   "id": "6dc36ffc-68a4-4774-8861-ebca3f642672",
   "metadata": {},
   "outputs": [],
   "source": []
  }
 ],
 "metadata": {
  "kernelspec": {
   "display_name": "Python 3 (ipykernel)",
   "language": "python",
   "name": "python3"
  },
  "language_info": {
   "codemirror_mode": {
    "name": "ipython",
    "version": 3
   },
   "file_extension": ".py",
   "mimetype": "text/x-python",
   "name": "python",
   "nbconvert_exporter": "python",
   "pygments_lexer": "ipython3",
   "version": "3.12.4"
  }
 },
 "nbformat": 4,
 "nbformat_minor": 5
}
